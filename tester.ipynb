{
 "cells": [
  {
   "cell_type": "code",
   "execution_count": 14,
   "metadata": {},
   "outputs": [],
   "source": [
    "%load_ext autoreload\n",
    "%autoreload 2"
   ]
  },
  {
   "cell_type": "code",
   "execution_count": 15,
   "metadata": {},
   "outputs": [],
   "source": [
    "import sys\n",
    "import time\n",
    "from datasets import load_dataset, load_metric, concatenate_datasets, load_from_disk, Dataset\n",
    "from src.sibyl import *"
   ]
  },
  {
   "cell_type": "markdown",
   "metadata": {},
   "source": [
    "# Extracting Concepts for Review"
   ]
  },
  {
   "cell_type": "code",
   "execution_count": 3,
   "metadata": {},
   "outputs": [],
   "source": [
    "tasks = ['ag_news', 'dbpedia_14', 'yahoo_answers_topics', 'imdb', 'yelp_polarity', 'amazon_polarity']"
   ]
  },
  {
   "cell_type": "code",
   "execution_count": 4,
   "metadata": {
    "scrolled": true
   },
   "outputs": [
    {
     "name": "stderr",
     "output_type": "stream",
     "text": [
      "Using custom data configuration default\n",
      "Reusing dataset ag_news (C:\\Users\\fabri\\.cache\\huggingface\\datasets\\ag_news\\default\\0.0.0\\bc2bcb40336ace1a0374767fc29bb0296cdaf8a6da7298436239c54d79180548)\n"
     ]
    },
    {
     "name": "stdout",
     "output_type": "stream",
     "text": [
      "Using fabriceyhc/bert-base-uncased-ag_news to rationalize keyphrase selections.\n"
     ]
    },
    {
     "name": "stderr",
     "output_type": "stream",
     "text": [
      "C:\\Users\\fabri\\Anaconda3\\envs\\python38\\lib\\site-packages\\transformers\\configuration_utils.py:336: UserWarning: Passing `gradient_checkpointing` to a config initialization is deprecated and will be removed in v5 Transformers. Using `model.gradient_checkpointing_enable()` instead, or if you are using the `Trainer` API, pass `gradient_checkpointing=True` in your `TrainingArguments`.\n",
      "  warnings.warn(\n",
      "Parameter 'function'=<function apply_c2s_to_dataset at 0x00000239C5167EE0> of the transform datasets.arrow_dataset.Dataset._map_single couldn't be hashed properly, a random hash was used instead. Make sure your transforms and parameters are serializable with pickle or dill for the dataset fingerprinting and caching to work. If you reuse this transform, the caching mechanism will consider it to be different from the previous calls and recompute everything. This warning is only showed once. Subsequent hashing failures won't be showed.\n"
     ]
    },
    {
     "data": {
      "application/vnd.jupyter.widget-view+json": {
       "model_id": "a219ac71f262469390da22c22e663e25",
       "version_major": 2,
       "version_minor": 0
      },
      "text/plain": [
       "HBox(children=(FloatProgress(value=0.0, max=10.0), HTML(value='')))"
      ]
     },
     "metadata": {},
     "output_type": "display_data"
    },
    {
     "name": "stdout",
     "output_type": "stream",
     "text": [
      "\n"
     ]
    },
    {
     "name": "stderr",
     "output_type": "stream",
     "text": [
      "Reusing dataset d_bpedia14 (C:\\Users\\fabri\\.cache\\huggingface\\datasets\\d_bpedia14\\dbpedia_14\\2.0.0\\7f0577ea0f4397b6b89bfe5c5f2c6b1b420990a1fc5e8538c7ab4ec40e46fa3e)\n"
     ]
    },
    {
     "name": "stdout",
     "output_type": "stream",
     "text": [
      "Using fabriceyhc/bert-base-uncased-dbpedia_14 to rationalize keyphrase selections.\n"
     ]
    },
    {
     "data": {
      "application/vnd.jupyter.widget-view+json": {
       "model_id": "78fad838deed4265a1d8cf3062be6e32",
       "version_major": 2,
       "version_minor": 0
      },
      "text/plain": [
       "HBox(children=(FloatProgress(value=0.0, max=10.0), HTML(value='')))"
      ]
     },
     "metadata": {},
     "output_type": "display_data"
    },
    {
     "name": "stdout",
     "output_type": "stream",
     "text": [
      "\n"
     ]
    },
    {
     "name": "stderr",
     "output_type": "stream",
     "text": [
      "Reusing dataset yahoo_answers_topics (C:\\Users\\fabri\\.cache\\huggingface\\datasets\\yahoo_answers_topics\\yahoo_answers_topics\\1.0.0\\b2712a72fde278f1d6e96cc4f485fd89ed2f79ecb231441e13645b53da021902)\n"
     ]
    },
    {
     "data": {
      "application/vnd.jupyter.widget-view+json": {
       "model_id": "4b9853b3d9e24a09a9c52deaec98e132",
       "version_major": 2,
       "version_minor": 0
      },
      "text/plain": [
       "HBox(children=(FloatProgress(value=0.0, max=10.0), HTML(value='')))"
      ]
     },
     "metadata": {},
     "output_type": "display_data"
    },
    {
     "name": "stdout",
     "output_type": "stream",
     "text": [
      "\n",
      "Using fabriceyhc/bert-base-uncased-yahoo_answers_topics to rationalize keyphrase selections.\n"
     ]
    },
    {
     "data": {
      "application/vnd.jupyter.widget-view+json": {
       "model_id": "2ba9b70dc37143fba118d662e29b645b",
       "version_major": 2,
       "version_minor": 0
      },
      "text/plain": [
       "HBox(children=(FloatProgress(value=0.0, max=10.0), HTML(value='')))"
      ]
     },
     "metadata": {},
     "output_type": "display_data"
    },
    {
     "name": "stdout",
     "output_type": "stream",
     "text": [
      "\n"
     ]
    },
    {
     "name": "stderr",
     "output_type": "stream",
     "text": [
      "Reusing dataset imdb (C:\\Users\\fabri\\.cache\\huggingface\\datasets\\imdb\\plain_text\\1.0.0\\e3c66f1788a67a89c7058d97ff62b6c30531e05b549de56d3ab91891f0561f9a)\n"
     ]
    },
    {
     "name": "stdout",
     "output_type": "stream",
     "text": [
      "Using fabriceyhc/bert-base-uncased-imdb to rationalize keyphrase selections.\n"
     ]
    },
    {
     "data": {
      "application/vnd.jupyter.widget-view+json": {
       "model_id": "c4282fadb5904999ba2736f508418efb",
       "version_major": 2,
       "version_minor": 0
      },
      "text/plain": [
       "HBox(children=(FloatProgress(value=0.0, max=10.0), HTML(value='')))"
      ]
     },
     "metadata": {},
     "output_type": "display_data"
    },
    {
     "name": "stdout",
     "output_type": "stream",
     "text": [
      "\n"
     ]
    },
    {
     "name": "stderr",
     "output_type": "stream",
     "text": [
      "Reusing dataset yelp_polarity (C:\\Users\\fabri\\.cache\\huggingface\\datasets\\yelp_polarity\\plain_text\\1.0.0\\a770787b2526bdcbfc29ac2d9beb8e820fbc15a03afd3ebc4fb9d8529de57544)\n"
     ]
    },
    {
     "name": "stdout",
     "output_type": "stream",
     "text": [
      "Using fabriceyhc/bert-base-uncased-yelp_polarity to rationalize keyphrase selections.\n"
     ]
    },
    {
     "name": "stderr",
     "output_type": "stream",
     "text": [
      "C:\\Users\\fabri\\Anaconda3\\envs\\python38\\lib\\site-packages\\transformers\\configuration_utils.py:336: UserWarning: Passing `gradient_checkpointing` to a config initialization is deprecated and will be removed in v5 Transformers. Using `model.gradient_checkpointing_enable()` instead, or if you are using the `Trainer` API, pass `gradient_checkpointing=True` in your `TrainingArguments`.\n",
      "  warnings.warn(\n"
     ]
    },
    {
     "data": {
      "application/vnd.jupyter.widget-view+json": {
       "model_id": "13a10b1ae6024526af9a7737840acbe0",
       "version_major": 2,
       "version_minor": 0
      },
      "text/plain": [
       "HBox(children=(FloatProgress(value=0.0, max=10.0), HTML(value='')))"
      ]
     },
     "metadata": {},
     "output_type": "display_data"
    },
    {
     "name": "stdout",
     "output_type": "stream",
     "text": [
      "\n"
     ]
    },
    {
     "name": "stderr",
     "output_type": "stream",
     "text": [
      "Reusing dataset amazon_polarity (C:\\Users\\fabri\\.cache\\huggingface\\datasets\\amazon_polarity\\amazon_polarity\\3.0.0\\ac31acedf6cda6bc2aa50d448f48bbad69a3dd8efc607d2ff1a9e65c2476b4c1)\n"
     ]
    },
    {
     "name": "stdout",
     "output_type": "stream",
     "text": [
      "Using fabriceyhc/bert-base-uncased-amazon_polarity to rationalize keyphrase selections.\n"
     ]
    },
    {
     "data": {
      "application/vnd.jupyter.widget-view+json": {
       "model_id": "3ebdd8a648374d40b2a0546cc0ca9627",
       "version_major": 2,
       "version_minor": 0
      },
      "text/plain": [
       "HBox(children=(FloatProgress(value=0.0, max=10.0), HTML(value='')))"
      ]
     },
     "metadata": {},
     "output_type": "display_data"
    },
    {
     "name": "stdout",
     "output_type": "stream",
     "text": [
      "\n"
     ]
    }
   ],
   "source": [
    "num_examples = 10\n",
    "\n",
    "results = []\n",
    "for task in tasks:\n",
    "        \n",
    "    dataset = load_dataset(task, split='train')\n",
    "    dataset = dataset.shuffle(seed=43).select(range(num_examples))\n",
    "    \n",
    "    if task == \"yahoo_answers_topics\":\n",
    "        dataset = dataset.map(lambda example : {'text' : example['question_title'] + \" \" + \n",
    "                                                         example['question_content'] + \" \" +\n",
    "                                                         example['best_answer'],\n",
    "                                                'label': example['topic']})\n",
    "        dataset = dataset.remove_columns(['question_title', 'question_content', 'best_answer', 'topic'])\n",
    "\n",
    "    if task in [\"dbpedia_14\", \"amazon_polarity\"]:\n",
    "        dataset = dataset.rename_column(\"content\", \"text\")\n",
    "        \n",
    "    c2s = Concept2Sentence(dataset=task, return_concepts=True, require_concepts_in_new_text=False)\n",
    "    # c2s_req = Concept2Sentence(dataset=task, return_concepts=True, require_concepts_in_new_text=True)\n",
    "\n",
    "#     def apply_c2s_to_dataset(batch):\n",
    "#         concepts1, new_text1 = [], []\n",
    "#         concepts2, new_text2 = [], []\n",
    "#         for data, target in zip(batch['text'], batch['label']):\n",
    "#             c1, t1 = c2s(data, target)\n",
    "#             concepts1.append(c1)\n",
    "#             new_text1.append(t1)\n",
    "#             c2, t2 = c2s_req(data, target)\n",
    "#             concepts2.append(c2)\n",
    "#             new_text2.append(t2)\n",
    "#         return {\"text\": batch['text'], \n",
    "#                 \"label\": batch['label'], \n",
    "#                 \"raw_concepts\": concepts1, \n",
    "#                 \"raw_new_text\": new_text1,\n",
    "#                 \"trimmed_concepts\": concepts2,\n",
    "#                 \"trimmed_new_text\": new_text2\n",
    "#                }\n",
    "    \n",
    "    def apply_c2s_to_dataset(batch):\n",
    "        concepts, new_text = [], []\n",
    "        for data, target in zip(batch['text'], batch['label']):\n",
    "            c, t = c2s(data, target)\n",
    "            concepts.append(c)\n",
    "            new_text.append(t)\n",
    "        return {\"text\": batch['text'], \"label\": batch['label'], \"concepts\": concepts, \"new_text\": new_text}\n",
    "\n",
    "    updated_dataset = dataset.map(apply_c2s_to_dataset, batched=True, batch_size=1)\n",
    "    results.append(updated_dataset)"
   ]
  },
  {
   "cell_type": "code",
   "execution_count": 5,
   "metadata": {},
   "outputs": [],
   "source": [
    "dfs = []\n",
    "for r, d in zip(results, tasks):\n",
    "    df = r.to_pandas()\n",
    "    df['dataset'] = d\n",
    "    dfs.append(df)"
   ]
  },
  {
   "cell_type": "code",
   "execution_count": 6,
   "metadata": {},
   "outputs": [],
   "source": [
    "df = pd.concat(dfs, ignore_index=True)"
   ]
  },
  {
   "cell_type": "code",
   "execution_count": 7,
   "metadata": {},
   "outputs": [],
   "source": [
    "df = df[['dataset', 'text', 'label', 'concepts', 'new_text']]\n",
    "# df = df[['dataset', 'text', 'label', 'raw_concepts', 'raw_new_text', 'trimmed_concepts', 'trimmed_new_text']]"
   ]
  },
  {
   "cell_type": "code",
   "execution_count": 8,
   "metadata": {},
   "outputs": [],
   "source": [
    "df.to_clipboard(excel=True)"
   ]
  },
  {
   "cell_type": "code",
   "execution_count": 9,
   "metadata": {},
   "outputs": [
    {
     "data": {
      "text/html": [
       "<div>\n",
       "<style scoped>\n",
       "    .dataframe tbody tr th:only-of-type {\n",
       "        vertical-align: middle;\n",
       "    }\n",
       "\n",
       "    .dataframe tbody tr th {\n",
       "        vertical-align: top;\n",
       "    }\n",
       "\n",
       "    .dataframe thead th {\n",
       "        text-align: right;\n",
       "    }\n",
       "</style>\n",
       "<table border=\"1\" class=\"dataframe\">\n",
       "  <thead>\n",
       "    <tr style=\"text-align: right;\">\n",
       "      <th></th>\n",
       "      <th>dataset</th>\n",
       "      <th>text</th>\n",
       "      <th>label</th>\n",
       "      <th>concepts</th>\n",
       "      <th>new_text</th>\n",
       "    </tr>\n",
       "  </thead>\n",
       "  <tbody>\n",
       "    <tr>\n",
       "      <th>0</th>\n",
       "      <td>ag_news</td>\n",
       "      <td>African Union pledges to send more troops to D...</td>\n",
       "      <td>0</td>\n",
       "      <td>[darfur, troops, union]</td>\n",
       "      <td>troops of armed force patrol the border with t...</td>\n",
       "    </tr>\n",
       "    <tr>\n",
       "      <th>1</th>\n",
       "      <td>ag_news</td>\n",
       "      <td>Rookie Leads Falcons Past Vikings 27-24 (AP) A...</td>\n",
       "      <td>1</td>\n",
       "      <td>[rookie, falcons, quarterback, ap, receivers, ...</td>\n",
       "      <td>rookie throws a pass to a streaking quarterbac...</td>\n",
       "    </tr>\n",
       "    <tr>\n",
       "      <th>2</th>\n",
       "      <td>ag_news</td>\n",
       "      <td>Marsh  amp; McLennan halts fees at center of p...</td>\n",
       "      <td>2</td>\n",
       "      <td>[market, quot, mclennan, amp, marsh, insurance]</td>\n",
       "      <td>mclennan is an amphetamine amphetamine that is...</td>\n",
       "    </tr>\n",
       "    <tr>\n",
       "      <th>3</th>\n",
       "      <td>ag_news</td>\n",
       "      <td>Davenport remains on title streak Top-seeded L...</td>\n",
       "      <td>1</td>\n",
       "      <td>[lindsay, victory, championship, davenport]</td>\n",
       "      <td>davenport celebrates his victory in the champi...</td>\n",
       "    </tr>\n",
       "    <tr>\n",
       "      <th>4</th>\n",
       "      <td>ag_news</td>\n",
       "      <td>Brazil Race Debrief: Fernandos sterling drive ...</td>\n",
       "      <td>1</td>\n",
       "      <td>[race, season]</td>\n",
       "      <td>race at the end of the season.</td>\n",
       "    </tr>\n",
       "    <tr>\n",
       "      <th>5</th>\n",
       "      <td>ag_news</td>\n",
       "      <td>Halliburton says way clear for units to exit b...</td>\n",
       "      <td>2</td>\n",
       "      <td>[company, bankruptcy]</td>\n",
       "      <td>venture funded company has filed for bankruptcy.</td>\n",
       "    </tr>\n",
       "    <tr>\n",
       "      <th>6</th>\n",
       "      <td>ag_news</td>\n",
       "      <td>Consumer Confidence Slips Again Consumer confi...</td>\n",
       "      <td>2</td>\n",
       "      <td>[consumer, confidence]</td>\n",
       "      <td>how to increase the confidence of your consumers.</td>\n",
       "    </tr>\n",
       "    <tr>\n",
       "      <th>7</th>\n",
       "      <td>ag_news</td>\n",
       "      <td>Dodgers can clinch division title Friday BRIST...</td>\n",
       "      <td>1</td>\n",
       "      <td>[division, dodgers, title, league, playoff]</td>\n",
       "      <td>cricket player in action during the league cha...</td>\n",
       "    </tr>\n",
       "    <tr>\n",
       "      <th>8</th>\n",
       "      <td>ag_news</td>\n",
       "      <td>Cricket: Tendulkar sets new best Sachin Tendul...</td>\n",
       "      <td>0</td>\n",
       "      <td>[bangladesh]</td>\n",
       "      <td>bangladesh is one of the largest cities in the...</td>\n",
       "    </tr>\n",
       "    <tr>\n",
       "      <th>9</th>\n",
       "      <td>ag_news</td>\n",
       "      <td>IBM Said to Be Leaving the PC Business The com...</td>\n",
       "      <td>2</td>\n",
       "      <td>[ibm, quot, business, pc]</td>\n",
       "      <td>biological species is a small business with a ...</td>\n",
       "    </tr>\n",
       "    <tr>\n",
       "      <th>10</th>\n",
       "      <td>dbpedia_14</td>\n",
       "      <td>Prolom or Prolom Banja is a spa in the munici...</td>\n",
       "      <td>8</td>\n",
       "      <td>[spa, prolom]</td>\n",
       "      <td>biological species in the form of a spas and a...</td>\n",
       "    </tr>\n",
       "    <tr>\n",
       "      <th>11</th>\n",
       "      <td>dbpedia_14</td>\n",
       "      <td>Salvia africana-lutea (beach salvia dune salv...</td>\n",
       "      <td>10</td>\n",
       "      <td>[salvia, leaves]</td>\n",
       "      <td>september salad leaves in a salad</td>\n",
       "    </tr>\n",
       "    <tr>\n",
       "      <th>12</th>\n",
       "      <td>dbpedia_14</td>\n",
       "      <td>Garland Robinette (born in Boutte Louisiana c...</td>\n",
       "      <td>2</td>\n",
       "      <td>[tv, journalist, robinette, orleans, anchor, f...</td>\n",
       "      <td>politician and orleans anchor of the new wwl n...</td>\n",
       "    </tr>\n",
       "    <tr>\n",
       "      <th>13</th>\n",
       "      <td>dbpedia_14</td>\n",
       "      <td>Salvia sordida is a rare perennial shrub ende...</td>\n",
       "      <td>10</td>\n",
       "      <td>[plant]</td>\n",
       "      <td>plant in the middle of a field.</td>\n",
       "    </tr>\n",
       "    <tr>\n",
       "      <th>14</th>\n",
       "      <td>dbpedia_14</td>\n",
       "      <td>Cadair Idris or Cader Idris is a mountain in ...</td>\n",
       "      <td>7</td>\n",
       "      <td>[mountain]</td>\n",
       "      <td>mountain in the distance at sunrise.</td>\n",
       "    </tr>\n",
       "    <tr>\n",
       "      <th>15</th>\n",
       "      <td>dbpedia_14</td>\n",
       "      <td>Buhl High School is a high school in Buhl Idaho.</td>\n",
       "      <td>1</td>\n",
       "      <td>[school]</td>\n",
       "      <td>school in the middle of the school.</td>\n",
       "    </tr>\n",
       "    <tr>\n",
       "      <th>16</th>\n",
       "      <td>dbpedia_14</td>\n",
       "      <td>The Supremes is a studio album by The Supreme...</td>\n",
       "      <td>11</td>\n",
       "      <td>[album]</td>\n",
       "      <td>An album of music is playing on the speakers.</td>\n",
       "    </tr>\n",
       "    <tr>\n",
       "      <th>17</th>\n",
       "      <td>dbpedia_14</td>\n",
       "      <td>MV Sea Adventurer is an ice-capable expeditio...</td>\n",
       "      <td>5</td>\n",
       "      <td>[vessel, ship, cruise]</td>\n",
       "      <td>cruise ship in a row ofvessels</td>\n",
       "    </tr>\n",
       "    <tr>\n",
       "      <th>18</th>\n",
       "      <td>dbpedia_14</td>\n",
       "      <td>Lenny Zakatek also known as The Voice (born L...</td>\n",
       "      <td>2</td>\n",
       "      <td>[voice, singer, rock, lenny, known, zakatek, b...</td>\n",
       "      <td>a zakatek is a singer known for his rock and r...</td>\n",
       "    </tr>\n",
       "    <tr>\n",
       "      <th>19</th>\n",
       "      <td>dbpedia_14</td>\n",
       "      <td>Notre Dame Academy is a private all-girls Rom...</td>\n",
       "      <td>1</td>\n",
       "      <td>[school, catholic, academy, private]</td>\n",
       "      <td>a catholic catholic school in a private school</td>\n",
       "    </tr>\n",
       "    <tr>\n",
       "      <th>20</th>\n",
       "      <td>yahoo_answers_topics</td>\n",
       "      <td>Why did the price of oil go up as soon as it w...</td>\n",
       "      <td>9</td>\n",
       "      <td>[gas, oil, office]</td>\n",
       "      <td>An office filled with oil and gas.</td>\n",
       "    </tr>\n",
       "    <tr>\n",
       "      <th>21</th>\n",
       "      <td>yahoo_answers_topics</td>\n",
       "      <td>I'm really depressed and bored--any ideas?? an...</td>\n",
       "      <td>2</td>\n",
       "      <td>[really, feel, depressed]</td>\n",
       "      <td>i really feel like i am depressed.</td>\n",
       "    </tr>\n",
       "    <tr>\n",
       "      <th>22</th>\n",
       "      <td>yahoo_answers_topics</td>\n",
       "      <td>i receive some messages sent to my pop email a...</td>\n",
       "      <td>4</td>\n",
       "      <td>[internet, email, blackberry]</td>\n",
       "      <td>blackberry and internet on a blackberry</td>\n",
       "    </tr>\n",
       "    <tr>\n",
       "      <th>23</th>\n",
       "      <td>yahoo_answers_topics</td>\n",
       "      <td>IS there a place where I can listen to complet...</td>\n",
       "      <td>7</td>\n",
       "      <td>[songs]</td>\n",
       "      <td>A group of people are singing music.</td>\n",
       "    </tr>\n",
       "    <tr>\n",
       "      <th>24</th>\n",
       "      <td>yahoo_answers_topics</td>\n",
       "      <td>graph of sine square theta minus cos square th...</td>\n",
       "      <td>3</td>\n",
       "      <td>[degrees, graph, minus, period, pi, starts, sq...</td>\n",
       "      <td>reversing the equation of the equation in the ...</td>\n",
       "    </tr>\n",
       "    <tr>\n",
       "      <th>25</th>\n",
       "      <td>yahoo_answers_topics</td>\n",
       "      <td>How do I delete Yahoo Canada and Rogers self-h...</td>\n",
       "      <td>4</td>\n",
       "      <td>[software]</td>\n",
       "      <td>how to use software in your home.</td>\n",
       "    </tr>\n",
       "    <tr>\n",
       "      <th>26</th>\n",
       "      <td>yahoo_answers_topics</td>\n",
       "      <td>When does england play next?  saturday 7/1\\nth...</td>\n",
       "      <td>5</td>\n",
       "      <td>[play, england]</td>\n",
       "      <td>an england of a man playing england</td>\n",
       "    </tr>\n",
       "    <tr>\n",
       "      <th>27</th>\n",
       "      <td>yahoo_answers_topics</td>\n",
       "      <td>Rotary equipments&amp;Static Equipments like to kn...</td>\n",
       "      <td>1</td>\n",
       "      <td>[static, forces, rotary]</td>\n",
       "      <td>static forces in the rotary of a rotary</td>\n",
       "    </tr>\n",
       "    <tr>\n",
       "      <th>28</th>\n",
       "      <td>yahoo_answers_topics</td>\n",
       "      <td>why do we have to breath all the time?  It's n...</td>\n",
       "      <td>2</td>\n",
       "      <td>[authority, breath]</td>\n",
       "      <td>author blows his breath out of his breath</td>\n",
       "    </tr>\n",
       "    <tr>\n",
       "      <th>29</th>\n",
       "      <td>yahoo_answers_topics</td>\n",
       "      <td>How old do you have to be to skydive?  18 i ch...</td>\n",
       "      <td>5</td>\n",
       "      <td>[skydive]</td>\n",
       "      <td>skydive in the middle of the sky</td>\n",
       "    </tr>\n",
       "    <tr>\n",
       "      <th>30</th>\n",
       "      <td>imdb</td>\n",
       "      <td>I've seen better teenage werewolf movies in my...</td>\n",
       "      <td>0</td>\n",
       "      <td>[annoying, adam, plays, seems, tony, player, w...</td>\n",
       "      <td>cricket player plays the role of a werewolf in...</td>\n",
       "    </tr>\n",
       "    <tr>\n",
       "      <th>31</th>\n",
       "      <td>imdb</td>\n",
       "      <td>The third and last part of the Bourne trilogy ...</td>\n",
       "      <td>1</td>\n",
       "      <td>[last, scenes, action, part, story, extensive,...</td>\n",
       "      <td>aerial scene of a man running as part of a sim...</td>\n",
       "    </tr>\n",
       "    <tr>\n",
       "      <th>32</th>\n",
       "      <td>imdb</td>\n",
       "      <td>A badly-acted two-character comedy-drama abrup...</td>\n",
       "      <td>0</td>\n",
       "      <td>[obvious, dreck, utter]</td>\n",
       "      <td>An elderly man is uttering a dreck.</td>\n",
       "    </tr>\n",
       "    <tr>\n",
       "      <th>33</th>\n",
       "      <td>imdb</td>\n",
       "      <td>I am not one of those people that will walk ou...</td>\n",
       "      <td>0</td>\n",
       "      <td>[seems, nixon]</td>\n",
       "      <td>a nixon appears to be in the middle of the nixon.</td>\n",
       "    </tr>\n",
       "    <tr>\n",
       "      <th>34</th>\n",
       "      <td>imdb</td>\n",
       "      <td>I'm not really sure how to even begin to descr...</td>\n",
       "      <td>0</td>\n",
       "      <td>[use, drink]</td>\n",
       "      <td>use the drink for a good laugh.</td>\n",
       "    </tr>\n",
       "    <tr>\n",
       "      <th>35</th>\n",
       "      <td>imdb</td>\n",
       "      <td>Peter Jacksons version(s) are better films ove...</td>\n",
       "      <td>1</td>\n",
       "      <td>[kills, acting]</td>\n",
       "      <td>A man is doing some kung fu acting.</td>\n",
       "    </tr>\n",
       "    <tr>\n",
       "      <th>36</th>\n",
       "      <td>imdb</td>\n",
       "      <td>First off, I dislike almost all Neil Simon mov...</td>\n",
       "      <td>1</td>\n",
       "      <td>[br, entertaining]</td>\n",
       "      <td>a bridal bouquet of flowers for entertaining</td>\n",
       "    </tr>\n",
       "    <tr>\n",
       "      <th>37</th>\n",
       "      <td>imdb</td>\n",
       "      <td>If they could get Ed Asner why didn't they get...</td>\n",
       "      <td>0</td>\n",
       "      <td>[would, old, like, character, long, boyfriend,...</td>\n",
       "      <td>i like the idea of having a long relationship ...</td>\n",
       "    </tr>\n",
       "    <tr>\n",
       "      <th>38</th>\n",
       "      <td>imdb</td>\n",
       "      <td>When a film has no fewer than FIVE different t...</td>\n",
       "      <td>0</td>\n",
       "      <td>[make, performance]</td>\n",
       "      <td>A man is making his way through a performance.</td>\n",
       "    </tr>\n",
       "    <tr>\n",
       "      <th>39</th>\n",
       "      <td>imdb</td>\n",
       "      <td>This movie sucked plain and simple. Okay so it...</td>\n",
       "      <td>0</td>\n",
       "      <td>[girl, gets, basically, scene, sucked, raped, ...</td>\n",
       "      <td>A young girl gets sucked by a young rapist, wh...</td>\n",
       "    </tr>\n",
       "    <tr>\n",
       "      <th>40</th>\n",
       "      <td>yelp_polarity</td>\n",
       "      <td>It's a small sushi place, but you can get Chin...</td>\n",
       "      <td>1</td>\n",
       "      <td>[sushi, chinese, great]</td>\n",
       "      <td>A group of chinese are eating sushi.</td>\n",
       "    </tr>\n",
       "    <tr>\n",
       "      <th>41</th>\n",
       "      <td>yelp_polarity</td>\n",
       "      <td>The pizza there is amazing nice dough and the ...</td>\n",
       "      <td>1</td>\n",
       "      <td>[amazing]</td>\n",
       "      <td>i amazing at the beauty of this scene.</td>\n",
       "    </tr>\n",
       "    <tr>\n",
       "      <th>42</th>\n",
       "      <td>yelp_polarity</td>\n",
       "      <td>Bought a tire from here due to a nail puncture...</td>\n",
       "      <td>1</td>\n",
       "      <td>[may]</td>\n",
       "      <td>may not be the end of the world.</td>\n",
       "    </tr>\n",
       "    <tr>\n",
       "      <th>43</th>\n",
       "      <td>yelp_polarity</td>\n",
       "      <td>I love firehouse, the sandwiches are pretty ta...</td>\n",
       "      <td>1</td>\n",
       "      <td>[tomatoes, signature, pick, lunch, hot, good, ...</td>\n",
       "      <td>Some kids are picking up a variety of hot dogs...</td>\n",
       "    </tr>\n",
       "    <tr>\n",
       "      <th>44</th>\n",
       "      <td>yelp_polarity</td>\n",
       "      <td>Worst walmart in Phoenix. I hate that this is ...</td>\n",
       "      <td>0</td>\n",
       "      <td>[waited, store, think, rolling, many, carts, h...</td>\n",
       "      <td>i think many of the employees at the supermark...</td>\n",
       "    </tr>\n",
       "    <tr>\n",
       "      <th>45</th>\n",
       "      <td>yelp_polarity</td>\n",
       "      <td>Excellent, quick service. Even though I had mi...</td>\n",
       "      <td>1</td>\n",
       "      <td>[quick, thank]</td>\n",
       "      <td>thank you for being a quickie.</td>\n",
       "    </tr>\n",
       "    <tr>\n",
       "      <th>46</th>\n",
       "      <td>yelp_polarity</td>\n",
       "      <td>I have been here two different times and both ...</td>\n",
       "      <td>1</td>\n",
       "      <td>[inside, magic, try, bacon, chevron, tasty, bu...</td>\n",
       "      <td>A chevron is trying to eat some bacon inside o...</td>\n",
       "    </tr>\n",
       "    <tr>\n",
       "      <th>47</th>\n",
       "      <td>yelp_polarity</td>\n",
       "      <td>Went there today to buy a handbag and there wa...</td>\n",
       "      <td>0</td>\n",
       "      <td>[bad, us]</td>\n",
       "      <td>some of the bad things that happened to us.</td>\n",
       "    </tr>\n",
       "    <tr>\n",
       "      <th>48</th>\n",
       "      <td>yelp_polarity</td>\n",
       "      <td>Pathetic!  I left a Rx there for 4.5 hours.  S...</td>\n",
       "      <td>0</td>\n",
       "      <td>[hours, said, call, pointed, fill, later, left...</td>\n",
       "      <td>Someone says something to someone, who stares ...</td>\n",
       "    </tr>\n",
       "    <tr>\n",
       "      <th>49</th>\n",
       "      <td>yelp_polarity</td>\n",
       "      <td>Good fast food!</td>\n",
       "      <td>1</td>\n",
       "      <td>[fast]</td>\n",
       "      <td>A man is eating breakfast at a fast.</td>\n",
       "    </tr>\n",
       "    <tr>\n",
       "      <th>50</th>\n",
       "      <td>amazon_polarity</td>\n",
       "      <td>The concept is right, but the construction is ...</td>\n",
       "      <td>0</td>\n",
       "      <td>[would, use, steamer, pot]</td>\n",
       "      <td>how to use a steamer in a pot</td>\n",
       "    </tr>\n",
       "    <tr>\n",
       "      <th>51</th>\n",
       "      <td>amazon_polarity</td>\n",
       "      <td>Just want to point that you're dealing here wi...</td>\n",
       "      <td>1</td>\n",
       "      <td>[sustain, playing, music, great, one, say]</td>\n",
       "      <td>great one says music is the only way to reduce...</td>\n",
       "    </tr>\n",
       "    <tr>\n",
       "      <th>52</th>\n",
       "      <td>amazon_polarity</td>\n",
       "      <td>This book is outstanding, and filled with the ...</td>\n",
       "      <td>1</td>\n",
       "      <td>[filled, outstanding, jesus]</td>\n",
       "      <td>jesus filled with jesus</td>\n",
       "    </tr>\n",
       "    <tr>\n",
       "      <th>53</th>\n",
       "      <td>amazon_polarity</td>\n",
       "      <td>I heard 'Beautiful Good-bye' repeatedly on the...</td>\n",
       "      <td>0</td>\n",
       "      <td>[grant, like, really, cd, amy, disappointed]</td>\n",
       "      <td>i like this cd but am disappointed by the lack...</td>\n",
       "    </tr>\n",
       "    <tr>\n",
       "      <th>54</th>\n",
       "      <td>amazon_polarity</td>\n",
       "      <td>A typical sounded Depeche Mode album, but that...</td>\n",
       "      <td>1</td>\n",
       "      <td>[good, excellent, great]</td>\n",
       "      <td>this is a great example of good things to do.</td>\n",
       "    </tr>\n",
       "    <tr>\n",
       "      <th>55</th>\n",
       "      <td>amazon_polarity</td>\n",
       "      <td>This product is awesome! Be sure to use dry wa...</td>\n",
       "      <td>1</td>\n",
       "      <td>[best]</td>\n",
       "      <td>this is the best way to start your day.</td>\n",
       "    </tr>\n",
       "    <tr>\n",
       "      <th>56</th>\n",
       "      <td>amazon_polarity</td>\n",
       "      <td>The organization is good for the tools, but th...</td>\n",
       "      <td>0</td>\n",
       "      <td>[recommend, stay]</td>\n",
       "      <td>a doctor recommends that you stay away from th...</td>\n",
       "    </tr>\n",
       "    <tr>\n",
       "      <th>57</th>\n",
       "      <td>amazon_polarity</td>\n",
       "      <td>My two year old son loves The Very Quiet Crick...</td>\n",
       "      <td>1</td>\n",
       "      <td>[bear, loves, add, verse, simplicity, heaves, ...</td>\n",
       "      <td>how to add a bit of whimsy to your book by add...</td>\n",
       "    </tr>\n",
       "    <tr>\n",
       "      <th>58</th>\n",
       "      <td>amazon_polarity</td>\n",
       "      <td>Although I have read hundreds of mysteries and...</td>\n",
       "      <td>1</td>\n",
       "      <td>[recommend, cops, ashes, procedural, pleased]</td>\n",
       "      <td>police officers are pleased with the results o...</td>\n",
       "    </tr>\n",
       "    <tr>\n",
       "      <th>59</th>\n",
       "      <td>amazon_polarity</td>\n",
       "      <td>I bought the Arrow TR550about a week ago. I ha...</td>\n",
       "      <td>0</td>\n",
       "      <td>[waste, useless, junk]</td>\n",
       "      <td>waste of biological species and other useless ...</td>\n",
       "    </tr>\n",
       "  </tbody>\n",
       "</table>\n",
       "</div>"
      ],
      "text/plain": [
       "                 dataset                                               text  \\\n",
       "0                ag_news  African Union pledges to send more troops to D...   \n",
       "1                ag_news  Rookie Leads Falcons Past Vikings 27-24 (AP) A...   \n",
       "2                ag_news  Marsh  amp; McLennan halts fees at center of p...   \n",
       "3                ag_news  Davenport remains on title streak Top-seeded L...   \n",
       "4                ag_news  Brazil Race Debrief: Fernandos sterling drive ...   \n",
       "5                ag_news  Halliburton says way clear for units to exit b...   \n",
       "6                ag_news  Consumer Confidence Slips Again Consumer confi...   \n",
       "7                ag_news  Dodgers can clinch division title Friday BRIST...   \n",
       "8                ag_news  Cricket: Tendulkar sets new best Sachin Tendul...   \n",
       "9                ag_news  IBM Said to Be Leaving the PC Business The com...   \n",
       "10            dbpedia_14   Prolom or Prolom Banja is a spa in the munici...   \n",
       "11            dbpedia_14   Salvia africana-lutea (beach salvia dune salv...   \n",
       "12            dbpedia_14   Garland Robinette (born in Boutte Louisiana c...   \n",
       "13            dbpedia_14   Salvia sordida is a rare perennial shrub ende...   \n",
       "14            dbpedia_14   Cadair Idris or Cader Idris is a mountain in ...   \n",
       "15            dbpedia_14   Buhl High School is a high school in Buhl Idaho.   \n",
       "16            dbpedia_14   The Supremes is a studio album by The Supreme...   \n",
       "17            dbpedia_14   MV Sea Adventurer is an ice-capable expeditio...   \n",
       "18            dbpedia_14   Lenny Zakatek also known as The Voice (born L...   \n",
       "19            dbpedia_14   Notre Dame Academy is a private all-girls Rom...   \n",
       "20  yahoo_answers_topics  Why did the price of oil go up as soon as it w...   \n",
       "21  yahoo_answers_topics  I'm really depressed and bored--any ideas?? an...   \n",
       "22  yahoo_answers_topics  i receive some messages sent to my pop email a...   \n",
       "23  yahoo_answers_topics  IS there a place where I can listen to complet...   \n",
       "24  yahoo_answers_topics  graph of sine square theta minus cos square th...   \n",
       "25  yahoo_answers_topics  How do I delete Yahoo Canada and Rogers self-h...   \n",
       "26  yahoo_answers_topics  When does england play next?  saturday 7/1\\nth...   \n",
       "27  yahoo_answers_topics  Rotary equipments&Static Equipments like to kn...   \n",
       "28  yahoo_answers_topics  why do we have to breath all the time?  It's n...   \n",
       "29  yahoo_answers_topics  How old do you have to be to skydive?  18 i ch...   \n",
       "30                  imdb  I've seen better teenage werewolf movies in my...   \n",
       "31                  imdb  The third and last part of the Bourne trilogy ...   \n",
       "32                  imdb  A badly-acted two-character comedy-drama abrup...   \n",
       "33                  imdb  I am not one of those people that will walk ou...   \n",
       "34                  imdb  I'm not really sure how to even begin to descr...   \n",
       "35                  imdb  Peter Jacksons version(s) are better films ove...   \n",
       "36                  imdb  First off, I dislike almost all Neil Simon mov...   \n",
       "37                  imdb  If they could get Ed Asner why didn't they get...   \n",
       "38                  imdb  When a film has no fewer than FIVE different t...   \n",
       "39                  imdb  This movie sucked plain and simple. Okay so it...   \n",
       "40         yelp_polarity  It's a small sushi place, but you can get Chin...   \n",
       "41         yelp_polarity  The pizza there is amazing nice dough and the ...   \n",
       "42         yelp_polarity  Bought a tire from here due to a nail puncture...   \n",
       "43         yelp_polarity  I love firehouse, the sandwiches are pretty ta...   \n",
       "44         yelp_polarity  Worst walmart in Phoenix. I hate that this is ...   \n",
       "45         yelp_polarity  Excellent, quick service. Even though I had mi...   \n",
       "46         yelp_polarity  I have been here two different times and both ...   \n",
       "47         yelp_polarity  Went there today to buy a handbag and there wa...   \n",
       "48         yelp_polarity  Pathetic!  I left a Rx there for 4.5 hours.  S...   \n",
       "49         yelp_polarity                                    Good fast food!   \n",
       "50       amazon_polarity  The concept is right, but the construction is ...   \n",
       "51       amazon_polarity  Just want to point that you're dealing here wi...   \n",
       "52       amazon_polarity  This book is outstanding, and filled with the ...   \n",
       "53       amazon_polarity  I heard 'Beautiful Good-bye' repeatedly on the...   \n",
       "54       amazon_polarity  A typical sounded Depeche Mode album, but that...   \n",
       "55       amazon_polarity  This product is awesome! Be sure to use dry wa...   \n",
       "56       amazon_polarity  The organization is good for the tools, but th...   \n",
       "57       amazon_polarity  My two year old son loves The Very Quiet Crick...   \n",
       "58       amazon_polarity  Although I have read hundreds of mysteries and...   \n",
       "59       amazon_polarity  I bought the Arrow TR550about a week ago. I ha...   \n",
       "\n",
       "    label                                           concepts  \\\n",
       "0       0                            [darfur, troops, union]   \n",
       "1       1  [rookie, falcons, quarterback, ap, receivers, ...   \n",
       "2       2    [market, quot, mclennan, amp, marsh, insurance]   \n",
       "3       1        [lindsay, victory, championship, davenport]   \n",
       "4       1                                     [race, season]   \n",
       "5       2                              [company, bankruptcy]   \n",
       "6       2                             [consumer, confidence]   \n",
       "7       1        [division, dodgers, title, league, playoff]   \n",
       "8       0                                       [bangladesh]   \n",
       "9       2                          [ibm, quot, business, pc]   \n",
       "10      8                                      [spa, prolom]   \n",
       "11     10                                   [salvia, leaves]   \n",
       "12      2  [tv, journalist, robinette, orleans, anchor, f...   \n",
       "13     10                                            [plant]   \n",
       "14      7                                         [mountain]   \n",
       "15      1                                           [school]   \n",
       "16     11                                            [album]   \n",
       "17      5                             [vessel, ship, cruise]   \n",
       "18      2  [voice, singer, rock, lenny, known, zakatek, b...   \n",
       "19      1               [school, catholic, academy, private]   \n",
       "20      9                                 [gas, oil, office]   \n",
       "21      2                          [really, feel, depressed]   \n",
       "22      4                      [internet, email, blackberry]   \n",
       "23      7                                            [songs]   \n",
       "24      3  [degrees, graph, minus, period, pi, starts, sq...   \n",
       "25      4                                         [software]   \n",
       "26      5                                    [play, england]   \n",
       "27      1                           [static, forces, rotary]   \n",
       "28      2                                [authority, breath]   \n",
       "29      5                                          [skydive]   \n",
       "30      0  [annoying, adam, plays, seems, tony, player, w...   \n",
       "31      1  [last, scenes, action, part, story, extensive,...   \n",
       "32      0                            [obvious, dreck, utter]   \n",
       "33      0                                     [seems, nixon]   \n",
       "34      0                                       [use, drink]   \n",
       "35      1                                    [kills, acting]   \n",
       "36      1                                 [br, entertaining]   \n",
       "37      0  [would, old, like, character, long, boyfriend,...   \n",
       "38      0                                [make, performance]   \n",
       "39      0  [girl, gets, basically, scene, sucked, raped, ...   \n",
       "40      1                            [sushi, chinese, great]   \n",
       "41      1                                          [amazing]   \n",
       "42      1                                              [may]   \n",
       "43      1  [tomatoes, signature, pick, lunch, hot, good, ...   \n",
       "44      0  [waited, store, think, rolling, many, carts, h...   \n",
       "45      1                                     [quick, thank]   \n",
       "46      1  [inside, magic, try, bacon, chevron, tasty, bu...   \n",
       "47      0                                          [bad, us]   \n",
       "48      0  [hours, said, call, pointed, fill, later, left...   \n",
       "49      1                                             [fast]   \n",
       "50      0                         [would, use, steamer, pot]   \n",
       "51      1         [sustain, playing, music, great, one, say]   \n",
       "52      1                       [filled, outstanding, jesus]   \n",
       "53      0       [grant, like, really, cd, amy, disappointed]   \n",
       "54      1                           [good, excellent, great]   \n",
       "55      1                                             [best]   \n",
       "56      0                                  [recommend, stay]   \n",
       "57      1  [bear, loves, add, verse, simplicity, heaves, ...   \n",
       "58      1      [recommend, cops, ashes, procedural, pleased]   \n",
       "59      0                             [waste, useless, junk]   \n",
       "\n",
       "                                             new_text  \n",
       "0   troops of armed force patrol the border with t...  \n",
       "1   rookie throws a pass to a streaking quarterbac...  \n",
       "2   mclennan is an amphetamine amphetamine that is...  \n",
       "3   davenport celebrates his victory in the champi...  \n",
       "4                      race at the end of the season.  \n",
       "5    venture funded company has filed for bankruptcy.  \n",
       "6   how to increase the confidence of your consumers.  \n",
       "7   cricket player in action during the league cha...  \n",
       "8   bangladesh is one of the largest cities in the...  \n",
       "9   biological species is a small business with a ...  \n",
       "10  biological species in the form of a spas and a...  \n",
       "11                  september salad leaves in a salad  \n",
       "12  politician and orleans anchor of the new wwl n...  \n",
       "13                    plant in the middle of a field.  \n",
       "14               mountain in the distance at sunrise.  \n",
       "15                school in the middle of the school.  \n",
       "16      An album of music is playing on the speakers.  \n",
       "17                     cruise ship in a row ofvessels  \n",
       "18  a zakatek is a singer known for his rock and r...  \n",
       "19     a catholic catholic school in a private school  \n",
       "20                 An office filled with oil and gas.  \n",
       "21                 i really feel like i am depressed.  \n",
       "22            blackberry and internet on a blackberry  \n",
       "23               A group of people are singing music.  \n",
       "24  reversing the equation of the equation in the ...  \n",
       "25                  how to use software in your home.  \n",
       "26                an england of a man playing england  \n",
       "27            static forces in the rotary of a rotary  \n",
       "28          author blows his breath out of his breath  \n",
       "29                   skydive in the middle of the sky  \n",
       "30  cricket player plays the role of a werewolf in...  \n",
       "31  aerial scene of a man running as part of a sim...  \n",
       "32                An elderly man is uttering a dreck.  \n",
       "33  a nixon appears to be in the middle of the nixon.  \n",
       "34                    use the drink for a good laugh.  \n",
       "35                A man is doing some kung fu acting.  \n",
       "36       a bridal bouquet of flowers for entertaining  \n",
       "37  i like the idea of having a long relationship ...  \n",
       "38     A man is making his way through a performance.  \n",
       "39  A young girl gets sucked by a young rapist, wh...  \n",
       "40               A group of chinese are eating sushi.  \n",
       "41             i amazing at the beauty of this scene.  \n",
       "42                   may not be the end of the world.  \n",
       "43  Some kids are picking up a variety of hot dogs...  \n",
       "44  i think many of the employees at the supermark...  \n",
       "45                     thank you for being a quickie.  \n",
       "46  A chevron is trying to eat some bacon inside o...  \n",
       "47        some of the bad things that happened to us.  \n",
       "48  Someone says something to someone, who stares ...  \n",
       "49               A man is eating breakfast at a fast.  \n",
       "50                      how to use a steamer in a pot  \n",
       "51  great one says music is the only way to reduce...  \n",
       "52                            jesus filled with jesus  \n",
       "53  i like this cd but am disappointed by the lack...  \n",
       "54      this is a great example of good things to do.  \n",
       "55            this is the best way to start your day.  \n",
       "56  a doctor recommends that you stay away from th...  \n",
       "57  how to add a bit of whimsy to your book by add...  \n",
       "58  police officers are pleased with the results o...  \n",
       "59  waste of biological species and other useless ...  "
      ]
     },
     "execution_count": 9,
     "metadata": {},
     "output_type": "execute_result"
    }
   ],
   "source": [
    "df"
   ]
  },
  {
   "cell_type": "markdown",
   "metadata": {},
   "source": [
    "# Improving C2S Concept Extraction"
   ]
  },
  {
   "cell_type": "code",
   "execution_count": 172,
   "metadata": {},
   "outputs": [
    {
     "name": "stdout",
     "output_type": "stream",
     "text": [
      "Using fabriceyhc/bert-base-uncased-amazon_polarity to rationalize keyphrase selections.\n"
     ]
    },
    {
     "name": "stderr",
     "output_type": "stream",
     "text": [
      "C:\\Users\\fabri\\Anaconda3\\envs\\python38\\lib\\site-packages\\transformers\\configuration_utils.py:336: UserWarning: Passing `gradient_checkpointing` to a config initialization is deprecated and will be removed in v5 Transformers. Using `model.gradient_checkpointing_enable()` instead, or if you are using the `Trainer` API, pass `gradient_checkpointing=True` in your `TrainingArguments`.\n",
      "  warnings.warn(\n"
     ]
    }
   ],
   "source": [
    "t = Concept2Sentence(dataset='amazon_polarity', return_concepts=True)"
   ]
  },
  {
   "cell_type": "code",
   "execution_count": 171,
   "metadata": {},
   "outputs": [],
   "source": [
    "X = \"What can I say? I know this movie from start to finish. It's hilarious. It's an strong link to my past and will change the way I view film in the future. Hypothetically speaking :) The down-fall? There's no Socrates Johnson!\"\n",
    "y = 1\n",
    "\n",
    "X = \"Hungarian GP, Friday Round-Up Fernando tenth and Jarno seventeenth but no cause for concern, while Pat Symonds explains the challenges of Fridays at the race.\"\n",
    "y = 1\n",
    "\n",
    "X = \"I've had Cox internet/cable service at my home in Tempe since 2008. So far I feel like we're subsidizing a predatory monopoly by allowing Cox to stay in business preventing fair competition in the market.\\n\\nFor example:\\n(a) Installation didn't work. They will only set up one jack for internet and will only use existing lines. So if you have cable jacks that are not hooked up to your current line, they are essentially useless. Cox won't activate a jack that is for example, in your living room, if it isn't already activated. \\n\\n(b) Service has interruptions and is not as fast as advertised. Because all the cable lines in Tempe are above ground, anytime a tree hits the power poles, you don't have internet for a few days.\\n\\n(c) Cable lines above ground also conduct lightning. When lightning hit near my neighbors house across the street nothing except my roommates computer was fried because I have every outlet on a surge protector. Where the ethernet cord was connected to my roommates computer, there was a visible burn and his laptop was destroyed.\\n\\n(d) Billing is not rational. If you decide to change the amount of service you subscribe to, they overbill you. You will spend several hours on the phone with customer service for your next three bills, because what they didn't overcharge you for the first months, they will overcharge you for in the following 3 months.\\n\\n(e) When there are billing problems they will turn off your account for a $14 difference even if it is not a month overdue  without giving you notice. Then they charge you a fee for the turn off. Then when you call to have it fixed, they tell you to call back when the billing department opens weekdays bankers hours.\\n\\n(f) Then they stop sending you a bill. I haven't received a bill for over 9 months. I just autopay from my checking account and have no idea what they are doing with my money. I've asked them to send it to me, but people on the phone never seem to be able to follow through.\\n\\n(g) To top it all off, I just received a threat of suit because Lions Gate alleges that I downloaded a movie, that I didn't download. Cox cable gave them my ID from my IP address so they could look at the transactions that occur from my IP address. When I responded that the download was false, I get an automatic reply telling me to encrypt my wireless and am directed to call their useless customer service line. -I never signed away my rights to privacy, and I don't download movies (have netflix, no need).\\n\\n(h) The local free TV stations can't be seen unless we buy the basic cable package. \\n\\nThe threat of suit  based on my alleged internet use is the last straw. Cox is a predatory business that uses it's monopoly on pre-existing cable lines to assert it's authority over our access to information on the internet, and what should be free television stations.  Cox cable didn't provide the infrastructure they are using; they shouldn't be allowed to benefit from the tax breaks we gave the phone and electricity companies to set up the network of  lines Cox now uses. They shouldn't be given this benefit, because they overcharge for their services, have predatory billing practices and fail to respect our individual privacy in our homes.\"\n",
    "y = 0\n",
    "\n",
    "X = \"Siskel & Ebert were terrific on this show whether you agreed with them or not because of the genuine conflict their separate professional opinions generated. Roeper took this show down a notch or two because he wasn't really a film critic and because he substituted snide for opinionated. Now, when Ben Lyons comes on I feel like I'm watching 'Teen News' -- you know, that kids' news show, hosted by kids for kids? Manckiewitz is not much better. It's obvious they've encountered only a steady diet of mainstream films their entire lives. The idea that these two rank amateurs have anything of interest or consequence to say about motion pictures is ludicrous. If they are reviewing a non-formula film, they are completely lost. Show them something original and intelligent -- they just find it 'confusing'. Wait -- I think I get it ... ABC is owned by Disney ... Disney makes movies for kids. While Siskel, Ebert, and Roper promoted independent films and were only hit-or-miss with the big budget studio productions -- what a surprise: these two guys LOVE the big studio schlock and only manage to tolerate a few indies. Plus everyone knows the age group TV advertisers are aiming for. The blatant nepotism is the icing on the cake. In what alternate universe do these guys qualify as film critics?\"\n",
    "y = 0\n",
    "\n",
    "X = \"This is a great printer. I had trouble at first with the 4 x 6 photo tray - all the photos were jamming so I called HP customer care and was instantly able to talk to very nice person who gave me instructions to load the tray properly (the little oval slider should be even with the little line farthest away from the printer when using HP paper with the tear off tab) - NO MORE JAMS!! Cannot believe the quality of the photo printing - combined with my Canon Powershot G1 this amateur looks like she knows what she is doing.\"\n",
    "y = 1"
   ]
  },
  {
   "cell_type": "code",
   "execution_count": 174,
   "metadata": {},
   "outputs": [
    {
     "data": {
      "text/plain": [
       "(['load', 'properly'], 'A man is loading his load properly.')"
      ]
     },
     "execution_count": 174,
     "metadata": {},
     "output_type": "execute_result"
    }
   ],
   "source": [
    "concepts, new_sentence = t(X, y)\n",
    "concepts, new_sentence"
   ]
  },
  {
   "cell_type": "code",
   "execution_count": 136,
   "metadata": {},
   "outputs": [
    {
     "data": {
      "text/plain": [
       "['siskel']"
      ]
     },
     "execution_count": 136,
     "metadata": {},
     "output_type": "execute_result"
    }
   ],
   "source": [
    "t.extract_concepts(X, y)"
   ]
  },
  {
   "cell_type": "code",
   "execution_count": 162,
   "metadata": {},
   "outputs": [
    {
     "data": {
      "text/plain": [
       "'i like the idea of a headset.'"
      ]
     },
     "execution_count": 162,
     "metadata": {},
     "output_type": "execute_result"
    }
   ],
   "source": [
    "t.generate_text_from_concepts(concepts)"
   ]
  },
  {
   "cell_type": "code",
   "execution_count": null,
   "metadata": {},
   "outputs": [],
   "source": []
  },
  {
   "cell_type": "code",
   "execution_count": null,
   "metadata": {},
   "outputs": [],
   "source": []
  },
  {
   "cell_type": "code",
   "execution_count": 147,
   "metadata": {},
   "outputs": [],
   "source": [
    "from nltk.stem import WordNetLemmatizer\n",
    "import string"
   ]
  },
  {
   "cell_type": "code",
   "execution_count": 148,
   "metadata": {},
   "outputs": [],
   "source": [
    "lemmatizer = WordNetLemmatizer()"
   ]
  },
  {
   "cell_type": "code",
   "execution_count": 41,
   "metadata": {},
   "outputs": [],
   "source": [
    "concepts = ['sudan', 'libyan', \"?!\", 'tenth', 'fernando', 'friday', 'fridays', 'flying']\n",
    "concept_lemmas = [lemmatizer.lemmatize(c) for c in concepts]\n",
    "new_concepts = [c for i, c in enumerate(concepts) if lemmatizer.lemmatize(c) not in concept_lemmas[:i]]"
   ]
  },
  {
   "cell_type": "code",
   "execution_count": 42,
   "metadata": {},
   "outputs": [
    {
     "data": {
      "text/plain": [
       "['sudan', 'libyan', '?!', 'tenth', 'fernando', 'friday', 'fridays', 'flying']"
      ]
     },
     "execution_count": 42,
     "metadata": {},
     "output_type": "execute_result"
    }
   ],
   "source": [
    "[c for c in concepts if c not in string.punctuation]"
   ]
  },
  {
   "cell_type": "code",
   "execution_count": 44,
   "metadata": {},
   "outputs": [
    {
     "data": {
      "text/plain": [
       "['sudan', 'libyan', '', 'tenth', 'fernando', 'friday', 'fridays', 'flying']"
      ]
     },
     "execution_count": 44,
     "metadata": {},
     "output_type": "execute_result"
    }
   ],
   "source": [
    "concept_depunct = [c.translate(str.maketrans('', '', string.punctuation)) for c in concepts]\n",
    "concept_depunct"
   ]
  },
  {
   "cell_type": "code",
   "execution_count": 45,
   "metadata": {},
   "outputs": [
    {
     "data": {
      "text/plain": [
       "['sudan', 'libyan', 'tenth', 'fernando', 'friday', 'fridays', 'flying']"
      ]
     },
     "execution_count": 45,
     "metadata": {},
     "output_type": "execute_result"
    }
   ],
   "source": [
    "[c1 for c1, c2 in zip(concepts, concept_depunct) if len(c2) > 1]"
   ]
  },
  {
   "cell_type": "markdown",
   "metadata": {},
   "source": [
    "# Bulk Dataset Transformation"
   ]
  },
  {
   "cell_type": "code",
   "execution_count": null,
   "metadata": {},
   "outputs": [],
   "source": [
    "def sibyl_dataset_transform(batch):\n",
    "    new_batch = []\n",
    "    for data, target in zip(batch['text'], batch['label']):\n",
    "        new_batch.append({'text': data, 'label': target})\n",
    "    text, label = sibyl_collator(new_batch)\n",
    "    return {\"text\": text, \"label\": label}"
   ]
  },
  {
   "cell_type": "code",
   "execution_count": 79,
   "metadata": {},
   "outputs": [
    {
     "name": "stderr",
     "output_type": "stream",
     "text": [
      "WARNING:datasets.builder:Reusing dataset imdb (C:\\Users\\fabri\\.cache\\huggingface\\datasets\\imdb\\plain_text\\1.0.0\\e3c66f1788a67a89c7058d97ff62b6c30531e05b549de56d3ab91891f0561f9a)\n"
     ]
    },
    {
     "name": "stdout",
     "output_type": "stream",
     "text": [
      "Using fabriceyhc/bert-base-uncased-imdb to rationalize keyphrase selections.\n"
     ]
    },
    {
     "name": "stderr",
     "output_type": "stream",
     "text": [
      "C:\\Users\\fabri\\Anaconda3\\envs\\python38\\lib\\site-packages\\transformers\\configuration_utils.py:336: UserWarning: Passing `gradient_checkpointing` to a config initialization is deprecated and will be removed in v5 Transformers. Using `model.gradient_checkpointing_enable()` instead, or if you are using the `Trainer` API, pass `gradient_checkpointing=True` in your `TrainingArguments`.\n",
      "  warnings.warn(\n"
     ]
    },
    {
     "name": "stdout",
     "output_type": "stream",
     "text": [
      "SibylCollator initialized with Concept2Sentence\n"
     ]
    }
   ],
   "source": [
    "task = \"imdb\"\n",
    "t = \"Concept2Sentence\"\n",
    "dataset = load_dataset(task, split=\"train[:20]\")\n",
    "\n",
    "task_to_keys = {\n",
    "        \"ag_news\": {\"keys\": (\"text\", None), \"num_classes\": 4, \"task_type\": \"topic\"},\n",
    "        \"dbpedia_14\": {\"keys\": (\"text\", None), \"num_classes\": 14, \"task_type\": \"topic\"},\n",
    "        \"yahoo_answers_topics\": {\"keys\": (\"text\", None), \"num_classes\": 10, \"task_type\": \"topic\"},\n",
    "        \"imdb\": {\"keys\": (\"text\", None), \"num_classes\": 2, \"task_type\": \"sentiment\"}\n",
    "    }\n",
    "\n",
    "sentence1_key, sentence2_key = task_to_keys[task][\"keys\"]\n",
    "num_classes = task_to_keys[task][\"num_classes\"]\n",
    "task_type = task_to_keys[task][\"task_type\"]\n",
    "\n",
    "transform = Concept2Sentence(dataset=task)\n",
    "num_sampled_INV = 0\n",
    "num_sampled_SIB = 0\n",
    "label_type = \"hard\"\n",
    "\n",
    "if t == \"INV\":\n",
    "    num_sampled_INV = 2\n",
    "elif t == \"SIB\":\n",
    "    num_sampled_SIB = 2\n",
    "    label_type = \"soft\"\n",
    "elif t == 'INVSIB':\n",
    "    num_sampled_INV = 1\n",
    "    num_sampled_SIB = 1\n",
    "    label_type = \"soft\"\n",
    "    \n",
    "sibyl_collator = SibylCollator( \n",
    "        sentence1_key=sentence1_key,\n",
    "        sentence2_key=sentence2_key,\n",
    "        tokenize_fn=None, \n",
    "        transform=transform, \n",
    "        num_sampled_INV=num_sampled_INV, \n",
    "        num_sampled_SIB=num_sampled_SIB,\n",
    "        dataset=task,\n",
    "        task_type=task_type, \n",
    "        tran_type=None, \n",
    "        label_type=None,\n",
    "        one_hot=label_type != \"hard\",\n",
    "        transform_prob=1.0,\n",
    "        target_pairs=[],\n",
    "        target_prob=0.0,\n",
    "        reduce_mixed=False,\n",
    "        num_classes=num_classes,\n",
    "        return_tensors='np',\n",
    "        return_text=True,\n",
    "        num_outputs = 15,\n",
    "        num_jobs = 2\n",
    "    )   "
   ]
  },
  {
   "cell_type": "code",
   "execution_count": null,
   "metadata": {},
   "outputs": [
    {
     "data": {
      "application/vnd.jupyter.widget-view+json": {
       "model_id": "dd65ab0700cf4ca5a86bf94163087150",
       "version_major": 2,
       "version_minor": 0
      },
      "text/plain": [
       "HBox(children=(FloatProgress(value=0.0, max=4.0), HTML(value='')))"
      ]
     },
     "metadata": {},
     "output_type": "display_data"
    }
   ],
   "source": [
    "for i in [1, 2, 4, 6, 8, 10]:\n",
    "    sibyl_collator.num_jobs = i\n",
    "    start = time.time()\n",
    "    updated_dataset = dataset.map(sibyl_dataset_transform, batched=True, batch_size=5)\n",
    "    print('num_jobs:', sibyl_collator.num_jobs, 'time:', time.time()-start)"
   ]
  },
  {
   "cell_type": "code",
   "execution_count": 38,
   "metadata": {},
   "outputs": [
    {
     "name": "stderr",
     "output_type": "stream",
     "text": [
      "Reusing dataset imdb (C:\\Users\\fabri\\.cache\\huggingface\\datasets\\imdb\\plain_text\\1.0.0\\e3c66f1788a67a89c7058d97ff62b6c30531e05b549de56d3ab91891f0561f9a)\n"
     ]
    }
   ],
   "source": [
    "test_dataset = load_dataset(task, split='test')"
   ]
  },
  {
   "cell_type": "code",
   "execution_count": 43,
   "metadata": {},
   "outputs": [
    {
     "data": {
      "text/html": [
       "<div>\n",
       "<style scoped>\n",
       "    .dataframe tbody tr th:only-of-type {\n",
       "        vertical-align: middle;\n",
       "    }\n",
       "\n",
       "    .dataframe tbody tr th {\n",
       "        vertical-align: top;\n",
       "    }\n",
       "\n",
       "    .dataframe thead th {\n",
       "        text-align: right;\n",
       "    }\n",
       "</style>\n",
       "<table border=\"1\" class=\"dataframe\">\n",
       "  <thead>\n",
       "    <tr style=\"text-align: right;\">\n",
       "      <th></th>\n",
       "      <th>text</th>\n",
       "      <th>label</th>\n",
       "    </tr>\n",
       "  </thead>\n",
       "  <tbody>\n",
       "    <tr>\n",
       "      <th>0</th>\n",
       "      <td>I went and saw this movie last night after bei...</td>\n",
       "      <td>1</td>\n",
       "    </tr>\n",
       "    <tr>\n",
       "      <th>1</th>\n",
       "      <td>Actor turned director Bill Paxton follows up h...</td>\n",
       "      <td>1</td>\n",
       "    </tr>\n",
       "    <tr>\n",
       "      <th>2</th>\n",
       "      <td>As a recreational golfer with some knowledge o...</td>\n",
       "      <td>1</td>\n",
       "    </tr>\n",
       "    <tr>\n",
       "      <th>3</th>\n",
       "      <td>I saw this film in a sneak preview, and it is ...</td>\n",
       "      <td>1</td>\n",
       "    </tr>\n",
       "    <tr>\n",
       "      <th>4</th>\n",
       "      <td>Bill Paxton has taken the true story of the 19...</td>\n",
       "      <td>1</td>\n",
       "    </tr>\n",
       "    <tr>\n",
       "      <th>...</th>\n",
       "      <td>...</td>\n",
       "      <td>...</td>\n",
       "    </tr>\n",
       "    <tr>\n",
       "      <th>24995</th>\n",
       "      <td>I occasionally let my kids watch this garbage ...</td>\n",
       "      <td>0</td>\n",
       "    </tr>\n",
       "    <tr>\n",
       "      <th>24996</th>\n",
       "      <td>When all we have anymore is pretty much realit...</td>\n",
       "      <td>0</td>\n",
       "    </tr>\n",
       "    <tr>\n",
       "      <th>24997</th>\n",
       "      <td>The basic genre is a thriller intercut with an...</td>\n",
       "      <td>0</td>\n",
       "    </tr>\n",
       "    <tr>\n",
       "      <th>24998</th>\n",
       "      <td>Four things intrigued me as to this film - fir...</td>\n",
       "      <td>0</td>\n",
       "    </tr>\n",
       "    <tr>\n",
       "      <th>24999</th>\n",
       "      <td>David Bryce's comments nearby are exceptionall...</td>\n",
       "      <td>0</td>\n",
       "    </tr>\n",
       "  </tbody>\n",
       "</table>\n",
       "<p>25000 rows × 2 columns</p>\n",
       "</div>"
      ],
      "text/plain": [
       "                                                    text  label\n",
       "0      I went and saw this movie last night after bei...      1\n",
       "1      Actor turned director Bill Paxton follows up h...      1\n",
       "2      As a recreational golfer with some knowledge o...      1\n",
       "3      I saw this film in a sneak preview, and it is ...      1\n",
       "4      Bill Paxton has taken the true story of the 19...      1\n",
       "...                                                  ...    ...\n",
       "24995  I occasionally let my kids watch this garbage ...      0\n",
       "24996  When all we have anymore is pretty much realit...      0\n",
       "24997  The basic genre is a thriller intercut with an...      0\n",
       "24998  Four things intrigued me as to this film - fir...      0\n",
       "24999  David Bryce's comments nearby are exceptionall...      0\n",
       "\n",
       "[25000 rows x 2 columns]"
      ]
     },
     "execution_count": 43,
     "metadata": {},
     "output_type": "execute_result"
    }
   ],
   "source": [
    "test_dataset.to_pandas()"
   ]
  },
  {
   "cell_type": "code",
   "execution_count": null,
   "metadata": {},
   "outputs": [],
   "source": []
  },
  {
   "cell_type": "code",
   "execution_count": 78,
   "metadata": {},
   "outputs": [
    {
     "name": "stdout",
     "output_type": "stream",
     "text": [
      "Using fabriceyhc/bert-base-uncased-dbpedia_14 to rationalize keyphrase selections.\n"
     ]
    }
   ],
   "source": [
    "t = Concept2Sentence(dataset='dbpedia_14', return_concepts=True)"
   ]
  },
  {
   "cell_type": "code",
   "execution_count": 85,
   "metadata": {},
   "outputs": [],
   "source": [
    "X = [\"Allez Oop is a 1934 American short comedy film starring Buster Keaton.\"]\n",
    "y = 1\n",
    "task_config = {'input_idx': [1],\n",
    "  'tran_type': 'INV',\n",
    "  'label_type': 'hard',\n",
    "  'task_name': 'topic'}"
   ]
  },
  {
   "cell_type": "code",
   "execution_count": 86,
   "metadata": {},
   "outputs": [
    {
     "data": {
      "text/plain": [
       "('american during a match against country in the summer of 1934.', 1)"
      ]
     },
     "execution_count": 86,
     "metadata": {},
     "output_type": "execute_result"
    }
   ],
   "source": [
    "X_, y_ = t.transform_Xy(X, y, task_config)\n",
    "X_, y_"
   ]
  },
  {
   "cell_type": "code",
   "execution_count": 209,
   "metadata": {},
   "outputs": [],
   "source": [
    "t = ConceptMix(dataset='sst2', generation_type='joint')"
   ]
  },
  {
   "cell_type": "code",
   "execution_count": 211,
   "metadata": {},
   "outputs": [
    {
     "name": "stdout",
     "output_type": "stream",
     "text": [
      "['how to get rid of hate for a long time.', 'i really hate these keyphrases.'] [[1.0, 0.0], [0.6666666865348816, 0.3333333432674408]]\n"
     ]
    }
   ],
   "source": [
    "texts = [\"I hate how long loading the models takes to select better keyphrases.\",\n",
    "         \"I really love this movie a lot!\"]\n",
    "targets = [0, 1]\n",
    "batch = (texts, targets)\n",
    "new_text, new_target = t(batch, num_classes=2)\n",
    "print(new_text, new_target)"
   ]
  },
  {
   "cell_type": "code",
   "execution_count": null,
   "metadata": {},
   "outputs": [],
   "source": []
  },
  {
   "cell_type": "code",
   "execution_count": null,
   "metadata": {},
   "outputs": [],
   "source": []
  },
  {
   "cell_type": "code",
   "execution_count": 42,
   "metadata": {},
   "outputs": [
    {
     "data": {
      "text/plain": [
       "[{'input_idx': [1, 0],\n",
       "  'tran_type': 'INV',\n",
       "  'label_type': 'hard',\n",
       "  'task_name': 'similarity'},\n",
       " {'input_idx': [0, 1],\n",
       "  'tran_type': 'INV',\n",
       "  'label_type': 'hard',\n",
       "  'task_name': 'similarity'},\n",
       " {'input_idx': [1, 1],\n",
       "  'tran_type': 'INV',\n",
       "  'label_type': 'hard',\n",
       "  'task_name': 'similarity'}]"
      ]
     },
     "execution_count": 42,
     "metadata": {},
     "output_type": "execute_result"
    }
   ],
   "source": [
    "ContractContractions().get_task_configs(task_name='similarity').to_dict(orient='records')"
   ]
  },
  {
   "cell_type": "code",
   "execution_count": null,
   "metadata": {},
   "outputs": [],
   "source": []
  },
  {
   "cell_type": "code",
   "execution_count": 27,
   "metadata": {},
   "outputs": [],
   "source": [
    "def invert_label(y, soften=False, num_classes=2):\n",
    "    if not isinstance(y, np.ndarray):\n",
    "        y = soften_label(y, num_classes)\n",
    "    y = y[::-1]\n",
    "    if not soften:\n",
    "        y = np.argmax(y)\n",
    "    return y"
   ]
  },
  {
   "cell_type": "code",
   "execution_count": 41,
   "metadata": {},
   "outputs": [
    {
     "data": {
      "text/plain": [
       "4"
      ]
     },
     "execution_count": 41,
     "metadata": {},
     "output_type": "execute_result"
    }
   ],
   "source": [
    "invert_label(0, soften=False, num_classes=5)"
   ]
  },
  {
   "cell_type": "code",
   "execution_count": 26,
   "metadata": {},
   "outputs": [
    {
     "data": {
      "text/plain": [
       "2"
      ]
     },
     "execution_count": 26,
     "metadata": {},
     "output_type": "execute_result"
    }
   ],
   "source": [
    "y"
   ]
  },
  {
   "cell_type": "code",
   "execution_count": null,
   "metadata": {},
   "outputs": [],
   "source": []
  },
  {
   "cell_type": "code",
   "execution_count": 24,
   "metadata": {},
   "outputs": [],
   "source": [
    "y = np.array([0, 1, 0, 0])"
   ]
  },
  {
   "cell_type": "code",
   "execution_count": 20,
   "metadata": {},
   "outputs": [
    {
     "data": {
      "text/plain": [
       "array([1, 0, 1, 1])"
      ]
     },
     "execution_count": 20,
     "metadata": {},
     "output_type": "execute_result"
    }
   ],
   "source": [
    "1-y"
   ]
  },
  {
   "cell_type": "code",
   "execution_count": 21,
   "metadata": {},
   "outputs": [
    {
     "data": {
      "text/plain": [
       "3"
      ]
     },
     "execution_count": 21,
     "metadata": {},
     "output_type": "execute_result"
    }
   ],
   "source": [
    "(1-y).sum()"
   ]
  },
  {
   "cell_type": "code",
   "execution_count": 22,
   "metadata": {},
   "outputs": [
    {
     "data": {
      "text/plain": [
       "array([0.33333333, 0.        , 0.33333333, 0.33333333])"
      ]
     },
     "execution_count": 22,
     "metadata": {},
     "output_type": "execute_result"
    }
   ],
   "source": [
    "np.array([1, 0, 1, 1]) / 3"
   ]
  },
  {
   "cell_type": "code",
   "execution_count": 23,
   "metadata": {},
   "outputs": [
    {
     "data": {
      "text/plain": [
       "array([0.5, 0. , 0.5])"
      ]
     },
     "execution_count": 23,
     "metadata": {},
     "output_type": "execute_result"
    }
   ],
   "source": []
  },
  {
   "cell_type": "code",
   "execution_count": null,
   "metadata": {},
   "outputs": [],
   "source": []
  }
 ],
 "metadata": {
  "kernelspec": {
   "display_name": "Python 3",
   "language": "python",
   "name": "python3"
  },
  "language_info": {
   "codemirror_mode": {
    "name": "ipython",
    "version": 3
   },
   "file_extension": ".py",
   "mimetype": "text/x-python",
   "name": "python",
   "nbconvert_exporter": "python",
   "pygments_lexer": "ipython3",
   "version": "3.8.5"
  },
  "varInspector": {
   "cols": {
    "lenName": 16,
    "lenType": 16,
    "lenVar": 40
   },
   "kernels_config": {
    "python": {
     "delete_cmd_postfix": "",
     "delete_cmd_prefix": "del ",
     "library": "var_list.py",
     "varRefreshCmd": "print(var_dic_list())"
    },
    "r": {
     "delete_cmd_postfix": ") ",
     "delete_cmd_prefix": "rm(",
     "library": "var_list.r",
     "varRefreshCmd": "cat(var_dic_list()) "
    }
   },
   "types_to_exclude": [
    "module",
    "function",
    "builtin_function_or_method",
    "instance",
    "_Feature"
   ],
   "window_display": false
  }
 },
 "nbformat": 4,
 "nbformat_minor": 4
}
